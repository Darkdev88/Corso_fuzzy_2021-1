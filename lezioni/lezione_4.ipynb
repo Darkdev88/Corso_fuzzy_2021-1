{
  "nbformat": 4,
  "nbformat_minor": 0,
  "metadata": {
    "colab": {
      "name": "lezione_4.ipynb",
      "provenance": [],
      "authorship_tag": "ABX9TyOUKPJqFXz7Z6JUY8jEPsfJ"
    },
    "kernelspec": {
      "name": "python3",
      "display_name": "Python 3"
    }
  },
  "cells": [
    {
      "cell_type": "markdown",
      "metadata": {
        "id": "shrm8cMJ1ALH"
      },
      "source": [
        "# Simulazione Test\n",
        "\n",
        "- creare un jupyter notebook\n",
        "- descrivi brevemente il ruolo della logica ed i diversi tipi di logica studiati\n",
        "- implementare i connettivi logici come funzioni in python\n",
        "- testare le funzioni\n",
        "- implementare una funzione che stampa la tabella di verità di una formula interpretata nella logica classica e nella logica di Lukasiewicz a # valori\n",
        "- stampare la funzione di verità della seguente formula:\n",
        "\n",
        "#############\n",
        "\n",
        "- pubblicare il notebook su una repository di GitHub\n",
        "- inviare il link della repository ed il notebook in formato .pdf alle email: gvitale@unisa.it e ifts@scuolalatecnica.it\n"
      ]
    },
    {
      "cell_type": "code",
      "metadata": {
        "id": "E9frf5YSpmES",
        "colab": {
          "base_uri": "https://localhost:8080/"
        },
        "outputId": "378989ab-3a3a-4c4d-abcd-c9b2cf4d6109"
      },
      "source": [
        "def "
      ],
      "execution_count": 1,
      "outputs": [
        {
          "output_type": "stream",
          "text": [
            "\n"
          ],
          "name": "stdout"
        }
      ]
    }
  ]
}